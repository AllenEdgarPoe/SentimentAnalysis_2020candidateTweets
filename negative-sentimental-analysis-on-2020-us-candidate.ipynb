{
 "cells": [
  {
   "cell_type": "markdown",
   "metadata": {},
   "source": [
    "## Sentiment Analysis on 2020 US presidential Election Candidates using Twitter Data.\n",
    "**Data Information**: Tweets from 1 Republican Party candidate(Donald Trump) and 3 Democrat Party candidates(Joe Biden, Elizabeth Warren, Bernie Sanders) <br>\n",
    "**Question**: Which Candidate is more negative on which topic? <br>\n",
    "**Method**: Word Embedding Model(FastText), LSTM-CNN model (RCNN) "
   ]
  },
  {
   "cell_type": "markdown",
   "metadata": {
    "colab_type": "text",
    "id": "MnUw4_XTUa_I"
   },
   "source": [
    "### Required Library"
   ]
  },
  {
   "cell_type": "code",
   "execution_count": 1,
   "metadata": {
    "colab": {
     "base_uri": "https://localhost:8080/",
     "height": 0
    },
    "colab_type": "code",
    "id": "ke43wewhLbp0",
    "outputId": "455f6f6d-52bb-42fc-d7fc-cbc87b0b4962"
   },
   "outputs": [
    {
     "name": "stderr",
     "output_type": "stream",
     "text": [
      "Using TensorFlow backend.\n"
     ]
    }
   ],
   "source": [
    "import numpy as np # linear algebra\n",
    "import pandas as pd # data processing, CSV file I/O (e.g. pd.read_csv)\n",
    "import seaborn as sns\n",
    "import matplotlib.pyplot as plt\n",
    "%matplotlib inline  \n",
    "\n",
    "import time\n",
    "start_time = time.time()\n",
    "from sklearn.model_selection import train_test_split\n",
    "import sys, os, re, csv, codecs, numpy as np, pandas as pd\n",
    "np.random.seed(32)\n",
    "os.environ[\"OMP_NUM_THREADS\"] = \"4\"\n",
    "from keras.preprocessing.text import Tokenizer\n",
    "from keras.preprocessing.sequence import pad_sequences\n",
    "from keras.layers import Dense, Input, LSTM, Embedding, Dropout, Activation, Conv1D, GRU\n",
    "from keras.layers import Bidirectional, GlobalMaxPool1D, MaxPooling1D, Add, Flatten\n",
    "from keras.layers import GlobalAveragePooling1D, GlobalMaxPooling1D, concatenate, SpatialDropout1D\n",
    "from keras.models import Model, load_model\n",
    "from keras import initializers, regularizers, constraints, optimizers, layers, callbacks\n",
    "from keras import backend as K\n",
    "from keras.engine import InputSpec, Layer\n",
    "from keras.optimizers import Adam, RMSprop\n",
    "from keras.callbacks import EarlyStopping, ModelCheckpoint, LearningRateScheduler\n",
    "from keras.layers import GRU, BatchNormalization, Conv1D, MaxPooling1D\n",
    "\n",
    "import logging\n",
    "from sklearn.metrics import roc_auc_score\n",
    "from keras.callbacks import Callback\n",
    "\n",
    "# Input data files are available in the \"../input/\" directory.\n",
    "# For example, running this (by clicking run or pressing Shift+Enter) will list the files in the input directory\n",
    "\n",
    "import os\n",
    "import pandas as pd"
   ]
  },
  {
   "cell_type": "markdown",
   "metadata": {
    "colab_type": "text",
    "id": "r4Px_FssVBJv"
   },
   "source": [
    "### Data Preview\n",
    "There are 4 dataset: Trump, and 3 Democrat party Candidates, Joe Biden, Elizabeth Warren and Bernie Sanders <br>\n",
    "I collected their tweets from '2019-01-01' to '2019-11-12'. <br>\n",
    "I merged individual csv files into one df_tweet file (df_politics), just to make sure every dataset is perfectly arranged"
   ]
  },
  {
   "cell_type": "code",
   "execution_count": 2,
   "metadata": {
    "colab": {
     "base_uri": "https://localhost:8080/",
     "height": 296
    },
    "colab_type": "code",
    "id": "GgBP8W3cVbBE",
    "outputId": "3308ac19-f6e3-4281-e251-5651405f9c16"
   },
   "outputs": [
    {
     "data": {
      "text/html": [
       "<div>\n",
       "<style scoped>\n",
       "    .dataframe tbody tr th:only-of-type {\n",
       "        vertical-align: middle;\n",
       "    }\n",
       "\n",
       "    .dataframe tbody tr th {\n",
       "        vertical-align: top;\n",
       "    }\n",
       "\n",
       "    .dataframe thead th {\n",
       "        text-align: right;\n",
       "    }\n",
       "</style>\n",
       "<table border=\"1\" class=\"dataframe\">\n",
       "  <thead>\n",
       "    <tr style=\"text-align: right;\">\n",
       "      <th></th>\n",
       "      <th>date</th>\n",
       "      <th>username</th>\n",
       "      <th>to</th>\n",
       "      <th>replies</th>\n",
       "      <th>retweets</th>\n",
       "      <th>favorites</th>\n",
       "      <th>text</th>\n",
       "      <th>geo</th>\n",
       "      <th>mentions</th>\n",
       "      <th>hashtags</th>\n",
       "      <th>id</th>\n",
       "      <th>permalink</th>\n",
       "    </tr>\n",
       "  </thead>\n",
       "  <tbody>\n",
       "    <tr>\n",
       "      <th>0</th>\n",
       "      <td>2019-11-12 15:41:35</td>\n",
       "      <td>realDonaldTrump</td>\n",
       "      <td>GOPoversight</td>\n",
       "      <td>14480</td>\n",
       "      <td>18330</td>\n",
       "      <td>57563</td>\n",
       "      <td>A total Impeachment Scam by the Do Nothing Dem...</td>\n",
       "      <td>NaN</td>\n",
       "      <td>NaN</td>\n",
       "      <td>NaN</td>\n",
       "      <td>1194279077546483714</td>\n",
       "      <td>https://twitter.com/realDonaldTrump/status/119...</td>\n",
       "    </tr>\n",
       "    <tr>\n",
       "      <th>1</th>\n",
       "      <td>2019-11-12 11:45:28</td>\n",
       "      <td>realDonaldTrump</td>\n",
       "      <td>NaN</td>\n",
       "      <td>33449</td>\n",
       "      <td>18779</td>\n",
       "      <td>70176</td>\n",
       "      <td>Many of the people in DACA, no longer very you...</td>\n",
       "      <td>NaN</td>\n",
       "      <td>NaN</td>\n",
       "      <td>NaN</td>\n",
       "      <td>1194219655717642240</td>\n",
       "      <td>https://twitter.com/realDonaldTrump/status/119...</td>\n",
       "    </tr>\n",
       "    <tr>\n",
       "      <th>2</th>\n",
       "      <td>2019-11-12 11:32:57</td>\n",
       "      <td>realDonaldTrump</td>\n",
       "      <td>NaN</td>\n",
       "      <td>11635</td>\n",
       "      <td>19350</td>\n",
       "      <td>97540</td>\n",
       "      <td>Economy is BOOMING. Seems set to have yet anot...</td>\n",
       "      <td>NaN</td>\n",
       "      <td>NaN</td>\n",
       "      <td>NaN</td>\n",
       "      <td>1194216506403545088</td>\n",
       "      <td>https://twitter.com/realDonaldTrump/status/119...</td>\n",
       "    </tr>\n",
       "    <tr>\n",
       "      <th>3</th>\n",
       "      <td>2019-11-12 11:31:21</td>\n",
       "      <td>realDonaldTrump</td>\n",
       "      <td>NaN</td>\n",
       "      <td>17679</td>\n",
       "      <td>19238</td>\n",
       "      <td>83973</td>\n",
       "      <td>I will be releasing the transcript of the firs...</td>\n",
       "      <td>NaN</td>\n",
       "      <td>NaN</td>\n",
       "      <td>NaN</td>\n",
       "      <td>1194216106300444672</td>\n",
       "      <td>https://twitter.com/realDonaldTrump/status/119...</td>\n",
       "    </tr>\n",
       "    <tr>\n",
       "      <th>4</th>\n",
       "      <td>2019-11-12 11:25:15</td>\n",
       "      <td>realDonaldTrump</td>\n",
       "      <td>NaN</td>\n",
       "      <td>4982</td>\n",
       "      <td>11558</td>\n",
       "      <td>44431</td>\n",
       "      <td>....Ukrainian energy company, and more million...</td>\n",
       "      <td>NaN</td>\n",
       "      <td>NaN</td>\n",
       "      <td>NaN</td>\n",
       "      <td>1194214569591394304</td>\n",
       "      <td>https://twitter.com/realDonaldTrump/status/119...</td>\n",
       "    </tr>\n",
       "  </tbody>\n",
       "</table>\n",
       "</div>"
      ],
      "text/plain": [
       "                  date         username            to  replies  retweets  \\\n",
       "0  2019-11-12 15:41:35  realDonaldTrump  GOPoversight    14480     18330   \n",
       "1  2019-11-12 11:45:28  realDonaldTrump           NaN    33449     18779   \n",
       "2  2019-11-12 11:32:57  realDonaldTrump           NaN    11635     19350   \n",
       "3  2019-11-12 11:31:21  realDonaldTrump           NaN    17679     19238   \n",
       "4  2019-11-12 11:25:15  realDonaldTrump           NaN     4982     11558   \n",
       "\n",
       "   favorites                                               text  geo mentions  \\\n",
       "0      57563  A total Impeachment Scam by the Do Nothing Dem...  NaN      NaN   \n",
       "1      70176  Many of the people in DACA, no longer very you...  NaN      NaN   \n",
       "2      97540  Economy is BOOMING. Seems set to have yet anot...  NaN      NaN   \n",
       "3      83973  I will be releasing the transcript of the firs...  NaN      NaN   \n",
       "4      44431  ....Ukrainian energy company, and more million...  NaN      NaN   \n",
       "\n",
       "  hashtags                   id  \\\n",
       "0      NaN  1194279077546483714   \n",
       "1      NaN  1194219655717642240   \n",
       "2      NaN  1194216506403545088   \n",
       "3      NaN  1194216106300444672   \n",
       "4      NaN  1194214569591394304   \n",
       "\n",
       "                                           permalink  \n",
       "0  https://twitter.com/realDonaldTrump/status/119...  \n",
       "1  https://twitter.com/realDonaldTrump/status/119...  \n",
       "2  https://twitter.com/realDonaldTrump/status/119...  \n",
       "3  https://twitter.com/realDonaldTrump/status/119...  \n",
       "4  https://twitter.com/realDonaldTrump/status/119...  "
      ]
     },
     "execution_count": 2,
     "metadata": {},
     "output_type": "execute_result"
    }
   ],
   "source": [
    "tweets = \"../input\"\n",
    "embedding_path = \"../input/crawl-300d-2M.vec\"  #where word2vector model is \n",
    "\n",
    "df_Trump = pd.read_csv(os.path.join(tweets,\"DonaldTrump.csv\"))\n",
    "df_Bernie = pd.read_csv(os.path.join(tweets, \"BernieSanders.csv\"))\n",
    "df_Joe = pd.read_csv(os.path.join(tweets, \"JoeBiden.csv\"))\n",
    "df_Elizabeth = pd.read_csv(os.path.join(tweets, \"ElizabethWarren.csv\"))\n",
    "df_politics = pd.concat((df_Trump, df_Bernie, df_Joe, df_Elizabeth), axis=0)\n",
    "df_politics.head()"
   ]
  },
  {
   "cell_type": "markdown",
   "metadata": {
    "colab_type": "text",
    "id": "dCQHcVLrDfRE"
   },
   "source": [
    "### Number of the data\n",
    "There are total of 11762 tweets. This might seem like a lot of data, but actually relatively small data compared to those which is used in other machine learning projects. <br>\n",
    "\n",
    "\n",
    "\n",
    "\n",
    "*   Donald Trump: 3929 tweets\n",
    "*   Elizabeth Warren: 3645 tweets \n",
    "*   Bernie Sanders: 2681 tweets <br>\n",
    "* Joe Biden: 1507 tweets <br>\n",
    "\n",
    "\n",
    "\n",
    "\n",
    "\n",
    "\n"
   ]
  },
  {
   "cell_type": "code",
   "execution_count": 3,
   "metadata": {
    "colab": {
     "base_uri": "https://localhost:8080/",
     "height": 34
    },
    "colab_type": "code",
    "id": "12vfB04eSaYH",
    "outputId": "2bc8f29d-ae25-472d-c40d-73f13fd698dc"
   },
   "outputs": [
    {
     "data": {
      "text/plain": [
       "(11762, 12)"
      ]
     },
     "execution_count": 3,
     "metadata": {},
     "output_type": "execute_result"
    }
   ],
   "source": [
    "df_politics.shape"
   ]
  },
  {
   "cell_type": "markdown",
   "metadata": {
    "colab_type": "text",
    "id": "UJaKDSLSKBO_"
   },
   "source": [
    "### Tokenizer\n",
    "\n",
    "\n",
    "1.   Separe full text into list of words. For example,\n",
    "\n",
    "> 'I love you' => ['I', 'love', 'you']\n",
    "\n",
    "2.   Transform list of words into list of numbers. For example,\n",
    "\n",
    ">['I', 'love', 'you'] => [16, 322, 22]\n",
    "\n",
    "3. Make each list of numbers into vectorized value. For example,\n",
    "```\n",
    "array([[    0,     0,     0, ...,    30, 10547,    14],\n",
    "       [    0,     0,     0, ...,    97,     2,   759],\n",
    "       [    0,     0,     0, ...,   329,   488,   120],\n",
    "       ...,\n",
    "       [    0,     0,     0, ...,    11,     7, 25414],\n",
    "       [    0,     0,     0, ...,    11,     7, 25415],\n",
    "       [    0,     0,     0, ...,    11,     7, 25419]], dtype=int32)\n",
    "```\n",
    "\n"
   ]
  },
  {
   "cell_type": "code",
   "execution_count": 4,
   "metadata": {
    "colab": {
     "base_uri": "https://localhost:8080/",
     "height": 419
    },
    "colab_type": "code",
    "id": "_jyp52HAV9dF",
    "outputId": "c2475acc-1825-410e-fba6-2f3b226cb48b"
   },
   "outputs": [
    {
     "name": "stdout",
     "output_type": "stream",
     "text": [
      "The vectorized tweet's shape is:  (11762, 220)\n"
     ]
    },
    {
     "data": {
      "text/html": [
       "<div>\n",
       "<style scoped>\n",
       "    .dataframe tbody tr th:only-of-type {\n",
       "        vertical-align: middle;\n",
       "    }\n",
       "\n",
       "    .dataframe tbody tr th {\n",
       "        vertical-align: top;\n",
       "    }\n",
       "\n",
       "    .dataframe thead th {\n",
       "        text-align: right;\n",
       "    }\n",
       "</style>\n",
       "<table border=\"1\" class=\"dataframe\">\n",
       "  <thead>\n",
       "    <tr style=\"text-align: right;\">\n",
       "      <th></th>\n",
       "      <th>text</th>\n",
       "      <th>comment_seq</th>\n",
       "    </tr>\n",
       "  </thead>\n",
       "  <tbody>\n",
       "    <tr>\n",
       "      <th>0</th>\n",
       "      <td>A total Impeachment Scam by the Do Nothing Dem...</td>\n",
       "      <td>[4, 589, 395, 989, 38, 1, 54, 218, 116, 15, 11...</td>\n",
       "    </tr>\n",
       "    <tr>\n",
       "      <th>1</th>\n",
       "      <td>Many of the people in DACA, no longer very you...</td>\n",
       "      <td>[119, 5, 1, 29, 6, 1180, 42, 714, 94, 431, 18,...</td>\n",
       "    </tr>\n",
       "    <tr>\n",
       "      <th>2</th>\n",
       "      <td>Economy is BOOMING. Seems set to have yet anot...</td>\n",
       "      <td>[151, 10, 3150, 1852, 1036, 2, 24, 636, 329, 4...</td>\n",
       "    </tr>\n",
       "    <tr>\n",
       "      <th>3</th>\n",
       "      <td>I will be releasing the transcript of the firs...</td>\n",
       "      <td>[16, 23, 25, 2235, 1, 1093, 5, 1, 149, 3, 2778...</td>\n",
       "    </tr>\n",
       "    <tr>\n",
       "      <th>4</th>\n",
       "      <td>....Ukrainian energy company, and more million...</td>\n",
       "      <td>[1251, 384, 706, 3, 47, 230, 901, 45, 241, 3, ...</td>\n",
       "    </tr>\n",
       "    <tr>\n",
       "      <th>...</th>\n",
       "      <td>...</td>\n",
       "      <td>...</td>\n",
       "    </tr>\n",
       "    <tr>\n",
       "      <th>3640</th>\n",
       "      <td>Tonight I’m talking to Rachel @Maddow at 9 PM ...</td>\n",
       "      <td>[364, 83, 548, 2, 3226, 2731, 33, 679, 1046, 1...</td>\n",
       "    </tr>\n",
       "    <tr>\n",
       "      <th>3641</th>\n",
       "      <td>Last night, I joined some of our best voluntee...</td>\n",
       "      <td>[170, 414, 16, 1351, 286, 5, 12, 297, 3118, 24...</td>\n",
       "    </tr>\n",
       "    <tr>\n",
       "      <th>3642</th>\n",
       "      <td>I was tickled pink to talk to you too, Cindy! ...</td>\n",
       "      <td>[16, 44, 10483, 25413, 2, 337, 2, 22, 188, 559...</td>\n",
       "    </tr>\n",
       "    <tr>\n",
       "      <th>3643</th>\n",
       "      <td>I called Melinda yesterday, a preschool teache...</td>\n",
       "      <td>[16, 514, 10178, 516, 4, 7014, 811, 39, 902, 2...</td>\n",
       "    </tr>\n",
       "    <tr>\n",
       "      <th>3644</th>\n",
       "      <td>Bruce &amp; I do the same thing every New Year's E...</td>\n",
       "      <td>[1133, 16, 54, 1, 379, 402, 88, 63, 6056, 2541...</td>\n",
       "    </tr>\n",
       "  </tbody>\n",
       "</table>\n",
       "<p>11762 rows × 2 columns</p>\n",
       "</div>"
      ],
      "text/plain": [
       "                                                   text  \\\n",
       "0     A total Impeachment Scam by the Do Nothing Dem...   \n",
       "1     Many of the people in DACA, no longer very you...   \n",
       "2     Economy is BOOMING. Seems set to have yet anot...   \n",
       "3     I will be releasing the transcript of the firs...   \n",
       "4     ....Ukrainian energy company, and more million...   \n",
       "...                                                 ...   \n",
       "3640  Tonight I’m talking to Rachel @Maddow at 9 PM ...   \n",
       "3641  Last night, I joined some of our best voluntee...   \n",
       "3642  I was tickled pink to talk to you too, Cindy! ...   \n",
       "3643  I called Melinda yesterday, a preschool teache...   \n",
       "3644  Bruce & I do the same thing every New Year's E...   \n",
       "\n",
       "                                            comment_seq  \n",
       "0     [4, 589, 395, 989, 38, 1, 54, 218, 116, 15, 11...  \n",
       "1     [119, 5, 1, 29, 6, 1180, 42, 714, 94, 431, 18,...  \n",
       "2     [151, 10, 3150, 1852, 1036, 2, 24, 636, 329, 4...  \n",
       "3     [16, 23, 25, 2235, 1, 1093, 5, 1, 149, 3, 2778...  \n",
       "4     [1251, 384, 706, 3, 47, 230, 901, 45, 241, 3, ...  \n",
       "...                                                 ...  \n",
       "3640  [364, 83, 548, 2, 3226, 2731, 33, 679, 1046, 1...  \n",
       "3641  [170, 414, 16, 1351, 286, 5, 12, 297, 3118, 24...  \n",
       "3642  [16, 44, 10483, 25413, 2, 337, 2, 22, 188, 559...  \n",
       "3643  [16, 514, 10178, 516, 4, 7014, 811, 39, 902, 2...  \n",
       "3644  [1133, 16, 54, 1, 379, 402, 88, 63, 6056, 2541...  \n",
       "\n",
       "[11762 rows x 2 columns]"
      ]
     },
     "execution_count": 4,
     "metadata": {},
     "output_type": "execute_result"
    }
   ],
   "source": [
    "embed_size = 300\n",
    "max_features = 130000\n",
    "max_len = 220\n",
    "\n",
    "df_politics[\"text\"].fillna(\"no comment\")   #if there is any \"None\" text in data, delete the entire row\n",
    "list_classes = [\"toxic\", \"severe_toxic\", \"obscene\", \"threat\", \"insult\", \"identity_hate\"]   #Negative feeling lists\n",
    "raw_text = df_politics[\"text\"].str.lower()   \n",
    "\n",
    "tk = Tokenizer(num_words = max_features, lower = True)  #Implement tokenizer model (it helps to divide the text into list of several words. For example, [I love apple] -> ['I', 'love', 'apple'])\n",
    "tk.fit_on_texts(raw_text)  # Tokenize tweets \n",
    "df_politics[\"comment_seq\"] = tk.texts_to_sequences(raw_text)   #Then make them into a number. For example, \"I love apple \" -> [[16, 322, 2271]]. Insert the printed number into the 'df_politics' table\n",
    "\n",
    "tweets_pad_sequences = pad_sequences(df_politics.comment_seq, maxlen = max_len) #each row of the table has different length of \"comment_seq\". Make them into equal length of vector. \n",
    "print(\"The vectorized tweet's shape is: \", tweets_pad_sequences.shape) # Each text has transformed into list of numbers which has length of 84. \n",
    "\n",
    "df_politics[['text', 'comment_seq']]"
   ]
  },
  {
   "cell_type": "markdown",
   "metadata": {
    "colab_type": "text",
    "id": "L-QXNSGFOgrv"
   },
   "source": [
    "### Embedding Words into Vector space\n",
    "Now I need to construct an embedding index, that puts each one of the words into a 300-dimensional vector space.<br>\n",
    "I used 'FastText' model which was developed from Facebook in 2017. <br>\n",
    "This is a very revolutionary model, far better than 'GLOVE' or 'Word2Vec'. It calculates the distance between each words in its semantics, and can be redistributed even though there is a new word.\n"
   ]
  },
  {
   "cell_type": "code",
   "execution_count": 5,
   "metadata": {
    "colab": {},
    "colab_type": "code",
    "id": "xXx_SsYXWWbY"
   },
   "outputs": [],
   "source": [
    "# def get_coefs(word,*arr): return word, np.asarray(arr, dtype='float32')\n",
    "# embedding_index = dict(get_coefs(*o.strip().split(\" \")) for o in open(embedding_path, encoding =\"utf-8\"))   #This code is to open embedding \"Glove model\""
   ]
  },
  {
   "cell_type": "code",
   "execution_count": 6,
   "metadata": {
    "colab": {
     "base_uri": "https://localhost:8080/",
     "height": 52
    },
    "colab_type": "code",
    "id": "DPLBilzTSyqH",
    "outputId": "93e8d93d-08be-4356-ea40-3a64009307b0"
   },
   "outputs": [],
   "source": [
    "# word_list = tk.word_index\n",
    "# n_words = min(max_features, len(word_list))\n",
    "# print(\"number of used words: {}\".format(len(word_list)))  #Number of the whole words used in tweet data \n",
    "# embedding_matrix = np.zeros((n_words+1, embed_size)) \n",
    "# for word, i in word_list.items():\n",
    "#     if i >= max_features: continue\n",
    "#     embedding_vector = embedding_index.get(word)\n",
    "#     if embedding_vector is not None: embedding_matrix[i] = embedding_vector\n",
    "\n",
    "# embedding_matrix[0].shape"
   ]
  },
  {
   "cell_type": "markdown",
   "metadata": {
    "colab_type": "text",
    "id": "vU1hQfWORfez"
   },
   "source": [
    "### Machine Learning Model\n",
    "I have pre-trained model, so I loaded actual trained model and make the predictions on our data."
   ]
  },
  {
   "cell_type": "code",
   "execution_count": 7,
   "metadata": {
    "colab": {
     "base_uri": "https://localhost:8080/",
     "height": 635
    },
    "colab_type": "code",
    "id": "T6hIRjJ8TLd7",
    "outputId": "d9eb7402-b633-443c-a555-4fe610fc5793"
   },
   "outputs": [],
   "source": [
    "model = load_model(\"../input/best_model.hdf5\")"
   ]
  },
  {
   "cell_type": "markdown",
   "metadata": {
    "colab_type": "text",
    "id": "t7HQqDoDSARQ"
   },
   "source": [
    "It shows how the model actually looks like. This model is mixture of 'LSTM' and 'CNN' model. "
   ]
  },
  {
   "cell_type": "code",
   "execution_count": 8,
   "metadata": {
    "colab": {
     "base_uri": "https://localhost:8080/",
     "height": 668
    },
    "colab_type": "code",
    "id": "ijLblefbBHKV",
    "outputId": "a8268eab-febb-4407-ae65-705b27012333"
   },
   "outputs": [
    {
     "name": "stdout",
     "output_type": "stream",
     "text": [
      "Model: \"model_1\"\n",
      "__________________________________________________________________________________________________\n",
      "Layer (type)                    Output Shape         Param #     Connected to                     \n",
      "==================================================================================================\n",
      "input_1 (InputLayer)            (None, 220)          0                                            \n",
      "__________________________________________________________________________________________________\n",
      "embedding_1 (Embedding)         (None, 220, 300)     39000000    input_1[0][0]                    \n",
      "__________________________________________________________________________________________________\n",
      "spatial_dropout1d_1 (SpatialDro (None, 220, 300)     0           embedding_1[0][0]                \n",
      "__________________________________________________________________________________________________\n",
      "bidirectional_1 (Bidirectional) (None, 220, 224)     277536      spatial_dropout1d_1[0][0]        \n",
      "__________________________________________________________________________________________________\n",
      "bidirectional_2 (Bidirectional) (None, 220, 224)     370048      spatial_dropout1d_1[0][0]        \n",
      "__________________________________________________________________________________________________\n",
      "conv1d_1 (Conv1D)               (None, 219, 56)      25144       bidirectional_1[0][0]            \n",
      "__________________________________________________________________________________________________\n",
      "conv1d_2 (Conv1D)               (None, 219, 56)      25144       bidirectional_2[0][0]            \n",
      "__________________________________________________________________________________________________\n",
      "global_average_pooling1d_1 (Glo (None, 56)           0           conv1d_1[0][0]                   \n",
      "__________________________________________________________________________________________________\n",
      "global_max_pooling1d_1 (GlobalM (None, 56)           0           conv1d_1[0][0]                   \n",
      "__________________________________________________________________________________________________\n",
      "global_average_pooling1d_2 (Glo (None, 56)           0           conv1d_2[0][0]                   \n",
      "__________________________________________________________________________________________________\n",
      "global_max_pooling1d_2 (GlobalM (None, 56)           0           conv1d_2[0][0]                   \n",
      "__________________________________________________________________________________________________\n",
      "concatenate_1 (Concatenate)     (None, 224)          0           global_average_pooling1d_1[0][0] \n",
      "                                                                 global_max_pooling1d_1[0][0]     \n",
      "                                                                 global_average_pooling1d_2[0][0] \n",
      "                                                                 global_max_pooling1d_2[0][0]     \n",
      "__________________________________________________________________________________________________\n",
      "dense_1 (Dense)                 (None, 6)            1350        concatenate_1[0][0]              \n",
      "==================================================================================================\n",
      "Total params: 39,699,222\n",
      "Trainable params: 699,222\n",
      "Non-trainable params: 39,000,000\n",
      "__________________________________________________________________________________________________\n"
     ]
    }
   ],
   "source": [
    "model.summary() "
   ]
  },
  {
   "cell_type": "markdown",
   "metadata": {
    "colab_type": "text",
    "id": "wqbvC37CTCJ9"
   },
   "source": [
    "Let's train our web-crawled tweets using 'LSTM-CNN' model."
   ]
  },
  {
   "cell_type": "code",
   "execution_count": 9,
   "metadata": {
    "colab": {
     "base_uri": "https://localhost:8080/",
     "height": 34
    },
    "colab_type": "code",
    "id": "a9yZZDQYXUHy",
    "outputId": "d2abeea5-79b6-4ac6-ae1f-5bfdd32d4b29"
   },
   "outputs": [
    {
     "name": "stdout",
     "output_type": "stream",
     "text": [
      "11762/11762 [==============================] - 8s 638us/step\n"
     ]
    }
   ],
   "source": [
    "pred = model.predict(tweets_pad_sequences, batch_size = 1024, verbose = 1)"
   ]
  },
  {
   "cell_type": "code",
   "execution_count": 10,
   "metadata": {
    "colab": {
     "base_uri": "https://localhost:8080/",
     "height": 34
    },
    "colab_type": "code",
    "id": "-oDvstA0UQ6L",
    "outputId": "7a734641-69c1-469f-99d1-88b5d6efe5b3"
   },
   "outputs": [
    {
     "data": {
      "text/plain": [
       "0.99750805"
      ]
     },
     "execution_count": 10,
     "metadata": {},
     "output_type": "execute_result"
    }
   ],
   "source": [
    "pred.max()"
   ]
  },
  {
   "cell_type": "markdown",
   "metadata": {
    "colab_type": "text",
    "id": "0W4cSVd5TlS6"
   },
   "source": [
    "WOW! This model has 99.75% accuracy! I really didn't expect that. <br>\n",
    "This means this model can almost 100% distinguish toxic words from the tweets. <br>\n",
    "Then let's see the summary of this distinguishment"
   ]
  },
  {
   "cell_type": "code",
   "execution_count": 11,
   "metadata": {
    "colab": {
     "base_uri": "https://localhost:8080/",
     "height": 195
    },
    "colab_type": "code",
    "id": "rTuT9M75Xkqa",
    "outputId": "994625f3-eb05-463d-9156-c9740549b317"
   },
   "outputs": [
    {
     "data": {
      "text/html": [
       "<div>\n",
       "<style scoped>\n",
       "    .dataframe tbody tr th:only-of-type {\n",
       "        vertical-align: middle;\n",
       "    }\n",
       "\n",
       "    .dataframe tbody tr th {\n",
       "        vertical-align: top;\n",
       "    }\n",
       "\n",
       "    .dataframe thead th {\n",
       "        text-align: right;\n",
       "    }\n",
       "</style>\n",
       "<table border=\"1\" class=\"dataframe\">\n",
       "  <thead>\n",
       "    <tr style=\"text-align: right;\">\n",
       "      <th></th>\n",
       "      <th>toxic</th>\n",
       "      <th>severe_toxic</th>\n",
       "      <th>obscene</th>\n",
       "      <th>threat</th>\n",
       "      <th>insult</th>\n",
       "      <th>identity_hate</th>\n",
       "      <th>id</th>\n",
       "      <th>text</th>\n",
       "    </tr>\n",
       "  </thead>\n",
       "  <tbody>\n",
       "    <tr>\n",
       "      <th>0</th>\n",
       "      <td>0.760089</td>\n",
       "      <td>0.001366</td>\n",
       "      <td>0.120749</td>\n",
       "      <td>0.000129</td>\n",
       "      <td>0.529312</td>\n",
       "      <td>0.001124</td>\n",
       "      <td>2019-11-12 15:41:35</td>\n",
       "      <td>A total Impeachment Scam by the Do Nothing Dem...</td>\n",
       "    </tr>\n",
       "    <tr>\n",
       "      <th>1</th>\n",
       "      <td>0.002788</td>\n",
       "      <td>0.000066</td>\n",
       "      <td>0.000404</td>\n",
       "      <td>0.000012</td>\n",
       "      <td>0.000868</td>\n",
       "      <td>0.000045</td>\n",
       "      <td>2019-11-12 11:45:28</td>\n",
       "      <td>Many of the people in DACA, no longer very you...</td>\n",
       "    </tr>\n",
       "    <tr>\n",
       "      <th>2</th>\n",
       "      <td>0.009998</td>\n",
       "      <td>0.000174</td>\n",
       "      <td>0.000787</td>\n",
       "      <td>0.000020</td>\n",
       "      <td>0.002682</td>\n",
       "      <td>0.000202</td>\n",
       "      <td>2019-11-12 11:32:57</td>\n",
       "      <td>Economy is BOOMING. Seems set to have yet anot...</td>\n",
       "    </tr>\n",
       "    <tr>\n",
       "      <th>3</th>\n",
       "      <td>0.052497</td>\n",
       "      <td>0.000186</td>\n",
       "      <td>0.003516</td>\n",
       "      <td>0.000056</td>\n",
       "      <td>0.010265</td>\n",
       "      <td>0.001874</td>\n",
       "      <td>2019-11-12 11:31:21</td>\n",
       "      <td>I will be releasing the transcript of the firs...</td>\n",
       "    </tr>\n",
       "    <tr>\n",
       "      <th>4</th>\n",
       "      <td>0.596469</td>\n",
       "      <td>0.000966</td>\n",
       "      <td>0.137789</td>\n",
       "      <td>0.000076</td>\n",
       "      <td>0.515911</td>\n",
       "      <td>0.033893</td>\n",
       "      <td>2019-11-12 11:25:15</td>\n",
       "      <td>....Ukrainian energy company, and more million...</td>\n",
       "    </tr>\n",
       "  </tbody>\n",
       "</table>\n",
       "</div>"
      ],
      "text/plain": [
       "      toxic  severe_toxic   obscene    threat    insult  identity_hate  \\\n",
       "0  0.760089      0.001366  0.120749  0.000129  0.529312       0.001124   \n",
       "1  0.002788      0.000066  0.000404  0.000012  0.000868       0.000045   \n",
       "2  0.009998      0.000174  0.000787  0.000020  0.002682       0.000202   \n",
       "3  0.052497      0.000186  0.003516  0.000056  0.010265       0.001874   \n",
       "4  0.596469      0.000966  0.137789  0.000076  0.515911       0.033893   \n",
       "\n",
       "                    id                                               text  \n",
       "0  2019-11-12 15:41:35  A total Impeachment Scam by the Do Nothing Dem...  \n",
       "1  2019-11-12 11:45:28  Many of the people in DACA, no longer very you...  \n",
       "2  2019-11-12 11:32:57  Economy is BOOMING. Seems set to have yet anot...  \n",
       "3  2019-11-12 11:31:21  I will be releasing the transcript of the firs...  \n",
       "4  2019-11-12 11:25:15  ....Ukrainian energy company, and more million...  "
      ]
     },
     "execution_count": 11,
     "metadata": {},
     "output_type": "execute_result"
    }
   ],
   "source": [
    "toxic_predictions = pd.DataFrame(columns=list_classes, data=pred)\n",
    "toxic_predictions['id'] = df_politics['date'].values\n",
    "toxic_predictions['text'] = df_politics['text'].values\n",
    "toxic_predictions.head()"
   ]
  },
  {
   "cell_type": "code",
   "execution_count": 12,
   "metadata": {
    "colab": {
     "base_uri": "https://localhost:8080/",
     "height": 284
    },
    "colab_type": "code",
    "id": "1dBcUT_hYF1r",
    "outputId": "647b9ee9-d119-4ab1-eac9-433873bd2604"
   },
   "outputs": [
    {
     "data": {
      "text/html": [
       "<div>\n",
       "<style scoped>\n",
       "    .dataframe tbody tr th:only-of-type {\n",
       "        vertical-align: middle;\n",
       "    }\n",
       "\n",
       "    .dataframe tbody tr th {\n",
       "        vertical-align: top;\n",
       "    }\n",
       "\n",
       "    .dataframe thead th {\n",
       "        text-align: right;\n",
       "    }\n",
       "</style>\n",
       "<table border=\"1\" class=\"dataframe\">\n",
       "  <thead>\n",
       "    <tr style=\"text-align: right;\">\n",
       "      <th></th>\n",
       "      <th>toxic</th>\n",
       "      <th>severe_toxic</th>\n",
       "      <th>obscene</th>\n",
       "      <th>threat</th>\n",
       "      <th>insult</th>\n",
       "      <th>identity_hate</th>\n",
       "    </tr>\n",
       "  </thead>\n",
       "  <tbody>\n",
       "    <tr>\n",
       "      <th>count</th>\n",
       "      <td>11762.000000</td>\n",
       "      <td>11762.000000</td>\n",
       "      <td>11762.000000</td>\n",
       "      <td>1.176200e+04</td>\n",
       "      <td>11762.000000</td>\n",
       "      <td>11762.000000</td>\n",
       "    </tr>\n",
       "    <tr>\n",
       "      <th>mean</th>\n",
       "      <td>0.100985</td>\n",
       "      <td>0.000955</td>\n",
       "      <td>0.065875</td>\n",
       "      <td>1.359792e-04</td>\n",
       "      <td>0.042290</td>\n",
       "      <td>0.007932</td>\n",
       "    </tr>\n",
       "    <tr>\n",
       "      <th>std</th>\n",
       "      <td>0.222546</td>\n",
       "      <td>0.005529</td>\n",
       "      <td>0.181956</td>\n",
       "      <td>1.293976e-03</td>\n",
       "      <td>0.116587</td>\n",
       "      <td>0.044407</td>\n",
       "    </tr>\n",
       "    <tr>\n",
       "      <th>min</th>\n",
       "      <td>0.000041</td>\n",
       "      <td>0.000002</td>\n",
       "      <td>0.000014</td>\n",
       "      <td>4.172325e-07</td>\n",
       "      <td>0.000037</td>\n",
       "      <td>0.000004</td>\n",
       "    </tr>\n",
       "    <tr>\n",
       "      <th>25%</th>\n",
       "      <td>0.000915</td>\n",
       "      <td>0.000027</td>\n",
       "      <td>0.000161</td>\n",
       "      <td>6.437302e-06</td>\n",
       "      <td>0.000405</td>\n",
       "      <td>0.000062</td>\n",
       "    </tr>\n",
       "    <tr>\n",
       "      <th>50%</th>\n",
       "      <td>0.002954</td>\n",
       "      <td>0.000059</td>\n",
       "      <td>0.000385</td>\n",
       "      <td>1.609325e-05</td>\n",
       "      <td>0.001077</td>\n",
       "      <td>0.000188</td>\n",
       "    </tr>\n",
       "    <tr>\n",
       "      <th>75%</th>\n",
       "      <td>0.039558</td>\n",
       "      <td>0.000211</td>\n",
       "      <td>0.003599</td>\n",
       "      <td>5.170703e-05</td>\n",
       "      <td>0.010978</td>\n",
       "      <td>0.000949</td>\n",
       "    </tr>\n",
       "    <tr>\n",
       "      <th>max</th>\n",
       "      <td>0.997508</td>\n",
       "      <td>0.273178</td>\n",
       "      <td>0.992440</td>\n",
       "      <td>7.682255e-02</td>\n",
       "      <td>0.909950</td>\n",
       "      <td>0.823342</td>\n",
       "    </tr>\n",
       "  </tbody>\n",
       "</table>\n",
       "</div>"
      ],
      "text/plain": [
       "              toxic  severe_toxic       obscene        threat        insult  \\\n",
       "count  11762.000000  11762.000000  11762.000000  1.176200e+04  11762.000000   \n",
       "mean       0.100985      0.000955      0.065875  1.359792e-04      0.042290   \n",
       "std        0.222546      0.005529      0.181956  1.293976e-03      0.116587   \n",
       "min        0.000041      0.000002      0.000014  4.172325e-07      0.000037   \n",
       "25%        0.000915      0.000027      0.000161  6.437302e-06      0.000405   \n",
       "50%        0.002954      0.000059      0.000385  1.609325e-05      0.001077   \n",
       "75%        0.039558      0.000211      0.003599  5.170703e-05      0.010978   \n",
       "max        0.997508      0.273178      0.992440  7.682255e-02      0.909950   \n",
       "\n",
       "       identity_hate  \n",
       "count   11762.000000  \n",
       "mean        0.007932  \n",
       "std         0.044407  \n",
       "min         0.000004  \n",
       "25%         0.000062  \n",
       "50%         0.000188  \n",
       "75%         0.000949  \n",
       "max         0.823342  "
      ]
     },
     "execution_count": 12,
     "metadata": {},
     "output_type": "execute_result"
    }
   ],
   "source": [
    "toxic_predictions[list_classes].describe()"
   ]
  },
  {
   "cell_type": "code",
   "execution_count": 13,
   "metadata": {
    "colab": {
     "base_uri": "https://localhost:8080/",
     "height": 195
    },
    "colab_type": "code",
    "id": "ao2AKSuFV9p1",
    "outputId": "c0ddd3a4-ad51-4bb7-de85-3d48da4b35cc"
   },
   "outputs": [
    {
     "data": {
      "text/html": [
       "<div>\n",
       "<style scoped>\n",
       "    .dataframe tbody tr th:only-of-type {\n",
       "        vertical-align: middle;\n",
       "    }\n",
       "\n",
       "    .dataframe tbody tr th {\n",
       "        vertical-align: top;\n",
       "    }\n",
       "\n",
       "    .dataframe thead th {\n",
       "        text-align: right;\n",
       "    }\n",
       "</style>\n",
       "<table border=\"1\" class=\"dataframe\">\n",
       "  <thead>\n",
       "    <tr style=\"text-align: right;\">\n",
       "      <th></th>\n",
       "      <th>toxic</th>\n",
       "      <th>severe_toxic</th>\n",
       "      <th>obscene</th>\n",
       "      <th>threat</th>\n",
       "      <th>insult</th>\n",
       "      <th>identity_hate</th>\n",
       "      <th>id</th>\n",
       "      <th>text</th>\n",
       "      <th>username</th>\n",
       "    </tr>\n",
       "  </thead>\n",
       "  <tbody>\n",
       "    <tr>\n",
       "      <th>11757</th>\n",
       "      <td>0.002699</td>\n",
       "      <td>0.000113</td>\n",
       "      <td>0.000551</td>\n",
       "      <td>0.000045</td>\n",
       "      <td>0.000765</td>\n",
       "      <td>0.000366</td>\n",
       "      <td>2019-01-02 22:30:53</td>\n",
       "      <td>Tonight I’m talking to Rachel @Maddow at 9 PM ...</td>\n",
       "      <td>ewarren</td>\n",
       "    </tr>\n",
       "    <tr>\n",
       "      <th>11758</th>\n",
       "      <td>0.289937</td>\n",
       "      <td>0.000269</td>\n",
       "      <td>0.013951</td>\n",
       "      <td>0.000040</td>\n",
       "      <td>0.087938</td>\n",
       "      <td>0.000311</td>\n",
       "      <td>2019-01-02 14:42:10</td>\n",
       "      <td>Last night, I joined some of our best voluntee...</td>\n",
       "      <td>ewarren</td>\n",
       "    </tr>\n",
       "    <tr>\n",
       "      <th>11759</th>\n",
       "      <td>0.003570</td>\n",
       "      <td>0.000153</td>\n",
       "      <td>0.000296</td>\n",
       "      <td>0.002624</td>\n",
       "      <td>0.000836</td>\n",
       "      <td>0.000182</td>\n",
       "      <td>2019-01-02 02:36:47</td>\n",
       "      <td>I was tickled pink to talk to you too, Cindy! ...</td>\n",
       "      <td>ewarren</td>\n",
       "    </tr>\n",
       "    <tr>\n",
       "      <th>11760</th>\n",
       "      <td>0.029065</td>\n",
       "      <td>0.000230</td>\n",
       "      <td>0.002965</td>\n",
       "      <td>0.000042</td>\n",
       "      <td>0.005568</td>\n",
       "      <td>0.000252</td>\n",
       "      <td>2019-01-01 18:55:08</td>\n",
       "      <td>I called Melinda yesterday, a preschool teache...</td>\n",
       "      <td>ewarren</td>\n",
       "    </tr>\n",
       "    <tr>\n",
       "      <th>11761</th>\n",
       "      <td>0.000681</td>\n",
       "      <td>0.000028</td>\n",
       "      <td>0.000164</td>\n",
       "      <td>0.000005</td>\n",
       "      <td>0.000263</td>\n",
       "      <td>0.000277</td>\n",
       "      <td>2019-01-01 01:22:47</td>\n",
       "      <td>Bruce &amp; I do the same thing every New Year's E...</td>\n",
       "      <td>ewarren</td>\n",
       "    </tr>\n",
       "  </tbody>\n",
       "</table>\n",
       "</div>"
      ],
      "text/plain": [
       "          toxic  severe_toxic   obscene    threat    insult  identity_hate  \\\n",
       "11757  0.002699      0.000113  0.000551  0.000045  0.000765       0.000366   \n",
       "11758  0.289937      0.000269  0.013951  0.000040  0.087938       0.000311   \n",
       "11759  0.003570      0.000153  0.000296  0.002624  0.000836       0.000182   \n",
       "11760  0.029065      0.000230  0.002965  0.000042  0.005568       0.000252   \n",
       "11761  0.000681      0.000028  0.000164  0.000005  0.000263       0.000277   \n",
       "\n",
       "                        id                                               text  \\\n",
       "11757  2019-01-02 22:30:53  Tonight I’m talking to Rachel @Maddow at 9 PM ...   \n",
       "11758  2019-01-02 14:42:10  Last night, I joined some of our best voluntee...   \n",
       "11759  2019-01-02 02:36:47  I was tickled pink to talk to you too, Cindy! ...   \n",
       "11760  2019-01-01 18:55:08  I called Melinda yesterday, a preschool teache...   \n",
       "11761  2019-01-01 01:22:47  Bruce & I do the same thing every New Year's E...   \n",
       "\n",
       "      username  \n",
       "11757  ewarren  \n",
       "11758  ewarren  \n",
       "11759  ewarren  \n",
       "11760  ewarren  \n",
       "11761  ewarren  "
      ]
     },
     "execution_count": 13,
     "metadata": {},
     "output_type": "execute_result"
    }
   ],
   "source": [
    "toxic_predictions['username'] = df_politics['username'].values\n",
    "toxic_predictions['text'] = df_politics['text'].values\n",
    "toxic_predictions.tail()"
   ]
  },
  {
   "cell_type": "markdown",
   "metadata": {
    "colab_type": "text",
    "id": "YDEHvsBvZNnL"
   },
   "source": [
    "### Let's check which tweet showed the greatest negative feeling(toxic, insult, identity_hate)\n",
    "Interesting! It seems relatively correct "
   ]
  },
  {
   "cell_type": "code",
   "execution_count": 14,
   "metadata": {
    "colab": {
     "base_uri": "https://localhost:8080/",
     "height": 195
    },
    "colab_type": "code",
    "id": "hbD9_OZSZImk",
    "outputId": "507b3087-d0fe-4b71-fd68-45ad33bccc7b"
   },
   "outputs": [
    {
     "name": "stdout",
     "output_type": "stream",
     "text": [
      "The most toxic text: ['It is not Congress that regulates the pharmaceutical industry. It is the pharmaceutical industry that regulates Congress.']\n",
      "4523    BernieSanders\n",
      "Name: username, dtype: object\n",
      "The most insult text: ['THE GREATEST SCAM IN THE HISTORY OF AMERICAN POLITICS!']\n",
      "870    realDonaldTrump\n",
      "Name: username, dtype: object\n",
      "The most identity_hate text: ['The Trump Administration continues to attack the progress the LGBTQ community has made. As president, passing the Equality Act will be a top legislative priority, because no one should be fired simply because of who they are or whom they love.https://www.buzzfeednews.com/article/dominicholden/trump-scotus-gay-workers …']\n",
      "7297    JoeBiden\n",
      "Name: username, dtype: object\n"
     ]
    }
   ],
   "source": [
    "for neg_word in ['toxic', 'insult', 'identity_hate']:\n",
    "  pd.set_option('display.max_colwidth', -1)\n",
    "  temp = toxic_predictions[toxic_predictions[neg_word] == max(toxic_predictions[neg_word])]\n",
    "  print('The most {} text: {}'.format(neg_word, temp['text'].values))\n",
    "  print(temp['username'])"
   ]
  },
  {
   "cell_type": "markdown",
   "metadata": {
    "colab_type": "text",
    "id": "nn7-RiIYa-Iy"
   },
   "source": [
    "### Compare Politicians' negative Feelings! "
   ]
  },
  {
   "cell_type": "code",
   "execution_count": 15,
   "metadata": {
    "colab": {},
    "colab_type": "code",
    "id": "HK1dl5AIYc-q"
   },
   "outputs": [],
   "source": [
    "Trump_predictions = toxic_predictions[toxic_predictions['username'] == 'realDonaldTrump']\n",
    "Sanders_predictions = toxic_predictions[toxic_predictions['username'] == 'BernieSanders']\n",
    "Warren_predictions = toxic_predictions[toxic_predictions['username'] == 'ewarren']\n",
    "Biden_predictions = toxic_predictions[toxic_predictions['username'] == 'JoeBiden']"
   ]
  },
  {
   "cell_type": "code",
   "execution_count": 16,
   "metadata": {
    "colab": {
     "base_uri": "https://localhost:8080/",
     "height": 284
    },
    "colab_type": "code",
    "id": "yJ01OzZnYsYw",
    "outputId": "e7ac3322-5003-41f3-d17d-40fd2bb16ae0"
   },
   "outputs": [
    {
     "data": {
      "text/html": [
       "<div>\n",
       "<style scoped>\n",
       "    .dataframe tbody tr th:only-of-type {\n",
       "        vertical-align: middle;\n",
       "    }\n",
       "\n",
       "    .dataframe tbody tr th {\n",
       "        vertical-align: top;\n",
       "    }\n",
       "\n",
       "    .dataframe thead th {\n",
       "        text-align: right;\n",
       "    }\n",
       "</style>\n",
       "<table border=\"1\" class=\"dataframe\">\n",
       "  <thead>\n",
       "    <tr style=\"text-align: right;\">\n",
       "      <th></th>\n",
       "      <th>toxic</th>\n",
       "      <th>severe_toxic</th>\n",
       "      <th>obscene</th>\n",
       "      <th>threat</th>\n",
       "      <th>insult</th>\n",
       "      <th>identity_hate</th>\n",
       "    </tr>\n",
       "  </thead>\n",
       "  <tbody>\n",
       "    <tr>\n",
       "      <th>count</th>\n",
       "      <td>3929.000000</td>\n",
       "      <td>3929.000000</td>\n",
       "      <td>3929.000000</td>\n",
       "      <td>3.929000e+03</td>\n",
       "      <td>3929.000000</td>\n",
       "      <td>3929.000000</td>\n",
       "    </tr>\n",
       "    <tr>\n",
       "      <th>mean</th>\n",
       "      <td>0.097546</td>\n",
       "      <td>0.001022</td>\n",
       "      <td>0.061798</td>\n",
       "      <td>1.082682e-04</td>\n",
       "      <td>0.041495</td>\n",
       "      <td>0.005245</td>\n",
       "    </tr>\n",
       "    <tr>\n",
       "      <th>std</th>\n",
       "      <td>0.224778</td>\n",
       "      <td>0.005142</td>\n",
       "      <td>0.182634</td>\n",
       "      <td>5.166405e-04</td>\n",
       "      <td>0.119670</td>\n",
       "      <td>0.028633</td>\n",
       "    </tr>\n",
       "    <tr>\n",
       "      <th>min</th>\n",
       "      <td>0.000061</td>\n",
       "      <td>0.000003</td>\n",
       "      <td>0.000028</td>\n",
       "      <td>6.258488e-07</td>\n",
       "      <td>0.000052</td>\n",
       "      <td>0.000006</td>\n",
       "    </tr>\n",
       "    <tr>\n",
       "      <th>25%</th>\n",
       "      <td>0.001065</td>\n",
       "      <td>0.000033</td>\n",
       "      <td>0.000179</td>\n",
       "      <td>7.361174e-06</td>\n",
       "      <td>0.000455</td>\n",
       "      <td>0.000070</td>\n",
       "    </tr>\n",
       "    <tr>\n",
       "      <th>50%</th>\n",
       "      <td>0.003186</td>\n",
       "      <td>0.000071</td>\n",
       "      <td>0.000460</td>\n",
       "      <td>1.922250e-05</td>\n",
       "      <td>0.001177</td>\n",
       "      <td>0.000207</td>\n",
       "    </tr>\n",
       "    <tr>\n",
       "      <th>75%</th>\n",
       "      <td>0.028190</td>\n",
       "      <td>0.000211</td>\n",
       "      <td>0.002519</td>\n",
       "      <td>6.148219e-05</td>\n",
       "      <td>0.008262</td>\n",
       "      <td>0.000984</td>\n",
       "    </tr>\n",
       "    <tr>\n",
       "      <th>max</th>\n",
       "      <td>0.996482</td>\n",
       "      <td>0.113038</td>\n",
       "      <td>0.969794</td>\n",
       "      <td>1.741824e-02</td>\n",
       "      <td>0.909950</td>\n",
       "      <td>0.622445</td>\n",
       "    </tr>\n",
       "  </tbody>\n",
       "</table>\n",
       "</div>"
      ],
      "text/plain": [
       "             toxic  severe_toxic      obscene        threat       insult  \\\n",
       "count  3929.000000  3929.000000   3929.000000  3.929000e+03  3929.000000   \n",
       "mean   0.097546     0.001022      0.061798     1.082682e-04  0.041495      \n",
       "std    0.224778     0.005142      0.182634     5.166405e-04  0.119670      \n",
       "min    0.000061     0.000003      0.000028     6.258488e-07  0.000052      \n",
       "25%    0.001065     0.000033      0.000179     7.361174e-06  0.000455      \n",
       "50%    0.003186     0.000071      0.000460     1.922250e-05  0.001177      \n",
       "75%    0.028190     0.000211      0.002519     6.148219e-05  0.008262      \n",
       "max    0.996482     0.113038      0.969794     1.741824e-02  0.909950      \n",
       "\n",
       "       identity_hate  \n",
       "count  3929.000000    \n",
       "mean   0.005245       \n",
       "std    0.028633       \n",
       "min    0.000006       \n",
       "25%    0.000070       \n",
       "50%    0.000207       \n",
       "75%    0.000984       \n",
       "max    0.622445       "
      ]
     },
     "execution_count": 16,
     "metadata": {},
     "output_type": "execute_result"
    }
   ],
   "source": [
    "#Trump Summary\n",
    "Trump_predictions[list_classes].describe()"
   ]
  },
  {
   "cell_type": "code",
   "execution_count": 17,
   "metadata": {
    "colab": {
     "base_uri": "https://localhost:8080/",
     "height": 284
    },
    "colab_type": "code",
    "id": "8PPLU7OPixSc",
    "outputId": "6804b060-852f-4484-bcda-f3b455378855"
   },
   "outputs": [
    {
     "data": {
      "text/html": [
       "<div>\n",
       "<style scoped>\n",
       "    .dataframe tbody tr th:only-of-type {\n",
       "        vertical-align: middle;\n",
       "    }\n",
       "\n",
       "    .dataframe tbody tr th {\n",
       "        vertical-align: top;\n",
       "    }\n",
       "\n",
       "    .dataframe thead th {\n",
       "        text-align: right;\n",
       "    }\n",
       "</style>\n",
       "<table border=\"1\" class=\"dataframe\">\n",
       "  <thead>\n",
       "    <tr style=\"text-align: right;\">\n",
       "      <th></th>\n",
       "      <th>toxic</th>\n",
       "      <th>severe_toxic</th>\n",
       "      <th>obscene</th>\n",
       "      <th>threat</th>\n",
       "      <th>insult</th>\n",
       "      <th>identity_hate</th>\n",
       "    </tr>\n",
       "  </thead>\n",
       "  <tbody>\n",
       "    <tr>\n",
       "      <th>count</th>\n",
       "      <td>2681.000000</td>\n",
       "      <td>2681.000000</td>\n",
       "      <td>2681.000000</td>\n",
       "      <td>2.681000e+03</td>\n",
       "      <td>2681.000000</td>\n",
       "      <td>2681.000000</td>\n",
       "    </tr>\n",
       "    <tr>\n",
       "      <th>mean</th>\n",
       "      <td>0.111841</td>\n",
       "      <td>0.001269</td>\n",
       "      <td>0.078801</td>\n",
       "      <td>1.360377e-04</td>\n",
       "      <td>0.043399</td>\n",
       "      <td>0.008155</td>\n",
       "    </tr>\n",
       "    <tr>\n",
       "      <th>std</th>\n",
       "      <td>0.235285</td>\n",
       "      <td>0.008634</td>\n",
       "      <td>0.203897</td>\n",
       "      <td>1.631853e-03</td>\n",
       "      <td>0.116365</td>\n",
       "      <td>0.044603</td>\n",
       "    </tr>\n",
       "    <tr>\n",
       "      <th>min</th>\n",
       "      <td>0.000057</td>\n",
       "      <td>0.000002</td>\n",
       "      <td>0.000014</td>\n",
       "      <td>5.066395e-07</td>\n",
       "      <td>0.000045</td>\n",
       "      <td>0.000006</td>\n",
       "    </tr>\n",
       "    <tr>\n",
       "      <th>25%</th>\n",
       "      <td>0.000838</td>\n",
       "      <td>0.000027</td>\n",
       "      <td>0.000157</td>\n",
       "      <td>6.794930e-06</td>\n",
       "      <td>0.000383</td>\n",
       "      <td>0.000057</td>\n",
       "    </tr>\n",
       "    <tr>\n",
       "      <th>50%</th>\n",
       "      <td>0.002711</td>\n",
       "      <td>0.000054</td>\n",
       "      <td>0.000368</td>\n",
       "      <td>1.573563e-05</td>\n",
       "      <td>0.000995</td>\n",
       "      <td>0.000170</td>\n",
       "    </tr>\n",
       "    <tr>\n",
       "      <th>75%</th>\n",
       "      <td>0.051507</td>\n",
       "      <td>0.000214</td>\n",
       "      <td>0.005082</td>\n",
       "      <td>4.407763e-05</td>\n",
       "      <td>0.014030</td>\n",
       "      <td>0.001061</td>\n",
       "    </tr>\n",
       "    <tr>\n",
       "      <th>max</th>\n",
       "      <td>0.997508</td>\n",
       "      <td>0.273178</td>\n",
       "      <td>0.992440</td>\n",
       "      <td>7.622758e-02</td>\n",
       "      <td>0.909070</td>\n",
       "      <td>0.775405</td>\n",
       "    </tr>\n",
       "  </tbody>\n",
       "</table>\n",
       "</div>"
      ],
      "text/plain": [
       "             toxic  severe_toxic      obscene        threat       insult  \\\n",
       "count  2681.000000  2681.000000   2681.000000  2.681000e+03  2681.000000   \n",
       "mean   0.111841     0.001269      0.078801     1.360377e-04  0.043399      \n",
       "std    0.235285     0.008634      0.203897     1.631853e-03  0.116365      \n",
       "min    0.000057     0.000002      0.000014     5.066395e-07  0.000045      \n",
       "25%    0.000838     0.000027      0.000157     6.794930e-06  0.000383      \n",
       "50%    0.002711     0.000054      0.000368     1.573563e-05  0.000995      \n",
       "75%    0.051507     0.000214      0.005082     4.407763e-05  0.014030      \n",
       "max    0.997508     0.273178      0.992440     7.622758e-02  0.909070      \n",
       "\n",
       "       identity_hate  \n",
       "count  2681.000000    \n",
       "mean   0.008155       \n",
       "std    0.044603       \n",
       "min    0.000006       \n",
       "25%    0.000057       \n",
       "50%    0.000170       \n",
       "75%    0.001061       \n",
       "max    0.775405       "
      ]
     },
     "execution_count": 17,
     "metadata": {},
     "output_type": "execute_result"
    }
   ],
   "source": [
    "#Sanders Summary\n",
    "Sanders_predictions[list_classes].describe()"
   ]
  },
  {
   "cell_type": "code",
   "execution_count": 18,
   "metadata": {
    "colab": {
     "base_uri": "https://localhost:8080/",
     "height": 284
    },
    "colab_type": "code",
    "id": "W46K7ToFixi6",
    "outputId": "d7e7a194-9023-4235-bc5a-3902c9e1deb0"
   },
   "outputs": [
    {
     "data": {
      "text/html": [
       "<div>\n",
       "<style scoped>\n",
       "    .dataframe tbody tr th:only-of-type {\n",
       "        vertical-align: middle;\n",
       "    }\n",
       "\n",
       "    .dataframe tbody tr th {\n",
       "        vertical-align: top;\n",
       "    }\n",
       "\n",
       "    .dataframe thead th {\n",
       "        text-align: right;\n",
       "    }\n",
       "</style>\n",
       "<table border=\"1\" class=\"dataframe\">\n",
       "  <thead>\n",
       "    <tr style=\"text-align: right;\">\n",
       "      <th></th>\n",
       "      <th>toxic</th>\n",
       "      <th>severe_toxic</th>\n",
       "      <th>obscene</th>\n",
       "      <th>threat</th>\n",
       "      <th>insult</th>\n",
       "      <th>identity_hate</th>\n",
       "    </tr>\n",
       "  </thead>\n",
       "  <tbody>\n",
       "    <tr>\n",
       "      <th>count</th>\n",
       "      <td>3645.000000</td>\n",
       "      <td>3645.000000</td>\n",
       "      <td>3645.000000</td>\n",
       "      <td>3.645000e+03</td>\n",
       "      <td>3645.000000</td>\n",
       "      <td>3645.000000</td>\n",
       "    </tr>\n",
       "    <tr>\n",
       "      <th>mean</th>\n",
       "      <td>0.089513</td>\n",
       "      <td>0.000663</td>\n",
       "      <td>0.055304</td>\n",
       "      <td>1.736159e-04</td>\n",
       "      <td>0.038044</td>\n",
       "      <td>0.007580</td>\n",
       "    </tr>\n",
       "    <tr>\n",
       "      <th>std</th>\n",
       "      <td>0.202018</td>\n",
       "      <td>0.003203</td>\n",
       "      <td>0.155285</td>\n",
       "      <td>1.664826e-03</td>\n",
       "      <td>0.104428</td>\n",
       "      <td>0.044574</td>\n",
       "    </tr>\n",
       "    <tr>\n",
       "      <th>min</th>\n",
       "      <td>0.000041</td>\n",
       "      <td>0.000003</td>\n",
       "      <td>0.000016</td>\n",
       "      <td>4.172325e-07</td>\n",
       "      <td>0.000037</td>\n",
       "      <td>0.000004</td>\n",
       "    </tr>\n",
       "    <tr>\n",
       "      <th>25%</th>\n",
       "      <td>0.000868</td>\n",
       "      <td>0.000025</td>\n",
       "      <td>0.000158</td>\n",
       "      <td>5.692244e-06</td>\n",
       "      <td>0.000394</td>\n",
       "      <td>0.000060</td>\n",
       "    </tr>\n",
       "    <tr>\n",
       "      <th>50%</th>\n",
       "      <td>0.002949</td>\n",
       "      <td>0.000052</td>\n",
       "      <td>0.000350</td>\n",
       "      <td>1.445413e-05</td>\n",
       "      <td>0.001060</td>\n",
       "      <td>0.000179</td>\n",
       "    </tr>\n",
       "    <tr>\n",
       "      <th>75%</th>\n",
       "      <td>0.036048</td>\n",
       "      <td>0.000196</td>\n",
       "      <td>0.003295</td>\n",
       "      <td>4.905462e-05</td>\n",
       "      <td>0.010526</td>\n",
       "      <td>0.000799</td>\n",
       "    </tr>\n",
       "    <tr>\n",
       "      <th>max</th>\n",
       "      <td>0.993701</td>\n",
       "      <td>0.109008</td>\n",
       "      <td>0.947564</td>\n",
       "      <td>7.682255e-02</td>\n",
       "      <td>0.897562</td>\n",
       "      <td>0.688897</td>\n",
       "    </tr>\n",
       "  </tbody>\n",
       "</table>\n",
       "</div>"
      ],
      "text/plain": [
       "             toxic  severe_toxic      obscene        threat       insult  \\\n",
       "count  3645.000000  3645.000000   3645.000000  3.645000e+03  3645.000000   \n",
       "mean   0.089513     0.000663      0.055304     1.736159e-04  0.038044      \n",
       "std    0.202018     0.003203      0.155285     1.664826e-03  0.104428      \n",
       "min    0.000041     0.000003      0.000016     4.172325e-07  0.000037      \n",
       "25%    0.000868     0.000025      0.000158     5.692244e-06  0.000394      \n",
       "50%    0.002949     0.000052      0.000350     1.445413e-05  0.001060      \n",
       "75%    0.036048     0.000196      0.003295     4.905462e-05  0.010526      \n",
       "max    0.993701     0.109008      0.947564     7.682255e-02  0.897562      \n",
       "\n",
       "       identity_hate  \n",
       "count  3645.000000    \n",
       "mean   0.007580       \n",
       "std    0.044574       \n",
       "min    0.000004       \n",
       "25%    0.000060       \n",
       "50%    0.000179       \n",
       "75%    0.000799       \n",
       "max    0.688897       "
      ]
     },
     "execution_count": 18,
     "metadata": {},
     "output_type": "execute_result"
    }
   ],
   "source": [
    "#Warren Summary\n",
    "Warren_predictions[list_classes].describe()"
   ]
  },
  {
   "cell_type": "code",
   "execution_count": 19,
   "metadata": {
    "colab": {
     "base_uri": "https://localhost:8080/",
     "height": 284
    },
    "colab_type": "code",
    "id": "JUA7sLOtiyD4",
    "outputId": "77f46a15-a462-446e-a35c-056a58f264a7"
   },
   "outputs": [
    {
     "data": {
      "text/html": [
       "<div>\n",
       "<style scoped>\n",
       "    .dataframe tbody tr th:only-of-type {\n",
       "        vertical-align: middle;\n",
       "    }\n",
       "\n",
       "    .dataframe tbody tr th {\n",
       "        vertical-align: top;\n",
       "    }\n",
       "\n",
       "    .dataframe thead th {\n",
       "        text-align: right;\n",
       "    }\n",
       "</style>\n",
       "<table border=\"1\" class=\"dataframe\">\n",
       "  <thead>\n",
       "    <tr style=\"text-align: right;\">\n",
       "      <th></th>\n",
       "      <th>toxic</th>\n",
       "      <th>severe_toxic</th>\n",
       "      <th>obscene</th>\n",
       "      <th>threat</th>\n",
       "      <th>insult</th>\n",
       "      <th>identity_hate</th>\n",
       "    </tr>\n",
       "  </thead>\n",
       "  <tbody>\n",
       "    <tr>\n",
       "      <th>count</th>\n",
       "      <td>1507.000000</td>\n",
       "      <td>1507.000000</td>\n",
       "      <td>1507.000000</td>\n",
       "      <td>1.507000e+03</td>\n",
       "      <td>1507.000000</td>\n",
       "      <td>1507.000000</td>\n",
       "    </tr>\n",
       "    <tr>\n",
       "      <th>mean</th>\n",
       "      <td>0.118385</td>\n",
       "      <td>0.000930</td>\n",
       "      <td>0.079075</td>\n",
       "      <td>1.170918e-04</td>\n",
       "      <td>0.052656</td>\n",
       "      <td>0.015390</td>\n",
       "    </tr>\n",
       "    <tr>\n",
       "      <th>std</th>\n",
       "      <td>0.238470</td>\n",
       "      <td>0.003446</td>\n",
       "      <td>0.196055</td>\n",
       "      <td>9.636891e-04</td>\n",
       "      <td>0.134754</td>\n",
       "      <td>0.069564</td>\n",
       "    </tr>\n",
       "    <tr>\n",
       "      <th>min</th>\n",
       "      <td>0.000074</td>\n",
       "      <td>0.000003</td>\n",
       "      <td>0.000028</td>\n",
       "      <td>4.172325e-07</td>\n",
       "      <td>0.000045</td>\n",
       "      <td>0.000005</td>\n",
       "    </tr>\n",
       "    <tr>\n",
       "      <th>25%</th>\n",
       "      <td>0.000790</td>\n",
       "      <td>0.000024</td>\n",
       "      <td>0.000147</td>\n",
       "      <td>5.483627e-06</td>\n",
       "      <td>0.000353</td>\n",
       "      <td>0.000051</td>\n",
       "    </tr>\n",
       "    <tr>\n",
       "      <th>50%</th>\n",
       "      <td>0.002844</td>\n",
       "      <td>0.000051</td>\n",
       "      <td>0.000344</td>\n",
       "      <td>1.373887e-05</td>\n",
       "      <td>0.000993</td>\n",
       "      <td>0.000188</td>\n",
       "    </tr>\n",
       "    <tr>\n",
       "      <th>75%</th>\n",
       "      <td>0.078358</td>\n",
       "      <td>0.000242</td>\n",
       "      <td>0.011069</td>\n",
       "      <td>4.303455e-05</td>\n",
       "      <td>0.017956</td>\n",
       "      <td>0.001186</td>\n",
       "    </tr>\n",
       "    <tr>\n",
       "      <th>max</th>\n",
       "      <td>0.991155</td>\n",
       "      <td>0.054597</td>\n",
       "      <td>0.939804</td>\n",
       "      <td>2.605304e-02</td>\n",
       "      <td>0.889951</td>\n",
       "      <td>0.823342</td>\n",
       "    </tr>\n",
       "  </tbody>\n",
       "</table>\n",
       "</div>"
      ],
      "text/plain": [
       "             toxic  severe_toxic      obscene        threat       insult  \\\n",
       "count  1507.000000  1507.000000   1507.000000  1.507000e+03  1507.000000   \n",
       "mean   0.118385     0.000930      0.079075     1.170918e-04  0.052656      \n",
       "std    0.238470     0.003446      0.196055     9.636891e-04  0.134754      \n",
       "min    0.000074     0.000003      0.000028     4.172325e-07  0.000045      \n",
       "25%    0.000790     0.000024      0.000147     5.483627e-06  0.000353      \n",
       "50%    0.002844     0.000051      0.000344     1.373887e-05  0.000993      \n",
       "75%    0.078358     0.000242      0.011069     4.303455e-05  0.017956      \n",
       "max    0.991155     0.054597      0.939804     2.605304e-02  0.889951      \n",
       "\n",
       "       identity_hate  \n",
       "count  1507.000000    \n",
       "mean   0.015390       \n",
       "std    0.069564       \n",
       "min    0.000005       \n",
       "25%    0.000051       \n",
       "50%    0.000188       \n",
       "75%    0.001186       \n",
       "max    0.823342       "
      ]
     },
     "execution_count": 19,
     "metadata": {},
     "output_type": "execute_result"
    }
   ],
   "source": [
    "#Biden Summary\n",
    "Biden_predictions[list_classes].describe()"
   ]
  },
  {
   "cell_type": "markdown",
   "metadata": {
    "colab_type": "text",
    "id": "B1IAogunY8qP"
   },
   "source": [
    "### Plotting"
   ]
  },
  {
   "cell_type": "markdown",
   "metadata": {
    "colab_type": "text",
    "id": "ytIjCOW0gHfj"
   },
   "source": [
    "First, I compared the occurence of each negative feelings. <br>\n",
    "Polticians showed the greatest feeling of toxic, followed by obscene, and insult."
   ]
  },
  {
   "cell_type": "code",
   "execution_count": 20,
   "metadata": {
    "colab": {
     "base_uri": "https://localhost:8080/",
     "height": 299
    },
    "colab_type": "code",
    "id": "ZW_vxmFqfqnf",
    "outputId": "43d30177-aa80-454d-91b0-d9d5548a78e5"
   },
   "outputs": [
    {
     "data": {
      "image/png": "[encoded data removed]",
      "text/plain": [
       "<Figure size 576x288 with 1 Axes>"
      ]
     },
     "metadata": {
      "needs_background": "light"
     },
     "output_type": "display_data"
    }
   ],
   "source": [
    "x=toxic_predictions.iloc[:,0:6].sum()\n",
    "#plot\n",
    "plt.figure(figsize=(8,4))\n",
    "ax= sns.barplot(x.index, x.values, alpha=0.8)\n",
    "plt.title(\"# per class\")\n",
    "plt.ylabel('# of Occurrences', fontsize=12)\n",
    "plt.xlabel('Type ', fontsize=12)\n",
    "#adding the text labels\n",
    "rects = ax.patches\n",
    "labels = x.values\n",
    "for rect, label in zip(rects, labels):\n",
    "    height = rect.get_height()\n",
    "    ax.text(rect.get_x() + rect.get_width()/2, height + 5, label, ha='center', va='bottom')\n",
    "\n",
    "plt.show()"
   ]
  },
  {
   "cell_type": "markdown",
   "metadata": {
    "colab_type": "text",
    "id": "tVSNhHA2giG6"
   },
   "source": [
    "Not all tweets show only one type of feeling. <br>\n",
    "So, I tried to see what feeling comes frequent with which feeling. "
   ]
  },
  {
   "cell_type": "code",
   "execution_count": 21,
   "metadata": {
    "colab": {
     "base_uri": "https://localhost:8080/",
     "height": 550
    },
    "colab_type": "code",
    "id": "8-9WBQ1Efv30",
    "outputId": "931e1b30-68aa-41df-f9d8-bafe2d111103"
   },
   "outputs": [
    {
     "data": {
      "text/plain": [
       "<matplotlib.axes._subplots.AxesSubplot at 0x7fd3a371c630>"
      ]
     },
     "execution_count": 21,
     "metadata": {},
     "output_type": "execute_result"
    },
    {
     "data": {
      "image/png": "[encoded data removed]",
      "text/plain": [
       "<Figure size 720x576 with 2 Axes>"
      ]
     },
     "metadata": {
      "needs_background": "light"
     },
     "output_type": "display_data"
    }
   ],
   "source": [
    "temp_df=toxic_predictions.iloc[:,0:6:]\n",
    "corr=temp_df.corr()\n",
    "plt.figure(figsize=(10,8))\n",
    "sns.heatmap(corr,\n",
    "            xticklabels=corr.columns.values,\n",
    "            yticklabels=corr.columns.values, annot=True)"
   ]
  },
  {
   "cell_type": "markdown",
   "metadata": {
    "colab_type": "text",
    "id": "cAHkzgLjiPNW"
   },
   "source": [
    "### Distribution of each candwidate\n",
    "very skewed distribution....Unlike what I expected, candidates show realtively low negative feelings in their tweets. <br>\n",
    "Hmm...Does this prove that candidates use clean words? Or....Is this Facebook's fault? \n"
   ]
  },
  {
   "cell_type": "code",
   "execution_count": 22,
   "metadata": {
    "colab": {
     "base_uri": "https://localhost:8080/",
     "height": 280
    },
    "colab_type": "code",
    "id": "7K4AUyhMYyT6",
    "outputId": "027ba375-8c25-4ec6-d560-0feb17d56229"
   },
   "outputs": [
    {
     "data": {
      "image/png": "[encoded data removed]",
      "text/plain": [
       "<Figure size 432x288 with 1 Axes>"
      ]
     },
     "metadata": {
      "needs_background": "light"
     },
     "output_type": "display_data"
    }
   ],
   "source": [
    "melt_df = pd.melt(toxic_predictions, value_vars=list_classes, id_vars='username')\n",
    "sns.violinplot(x='variable', y='value', hue='username', data=melt_df)\n",
    "plt.show()"
   ]
  },
  {
   "cell_type": "code",
   "execution_count": 23,
   "metadata": {
    "colab": {
     "base_uri": "https://localhost:8080/",
     "height": 34
    },
    "colab_type": "code",
    "id": "zj_lemzmY-x1",
    "outputId": "a01d6adb-73da-4fd3-878d-2451e219562a"
   },
   "outputs": [
    {
     "name": "stdout",
     "output_type": "stream",
     "text": [
      "Trump: The United States has VERY LOW INFLATION, a beautiful thing!\n"
     ]
    }
   ],
   "source": [
    "print(\"Trump: \" + Trump_predictions.loc[Trump_predictions['toxic'].idxmax()]['text'])"
   ]
  },
  {
   "cell_type": "code",
   "execution_count": 24,
   "metadata": {
    "colab": {
     "base_uri": "https://localhost:8080/",
     "height": 213
    },
    "colab_type": "code",
    "id": "q_sM-0UTiC2a",
    "outputId": "6a1a18b4-fcf9-4ded-d38a-362efd2e4a6f"
   },
   "outputs": [
    {
     "name": "stdout",
     "output_type": "stream",
     "text": [
      "['The United States has VERY LOW INFLATION, a beautiful thing!'\n",
      " 'The United States of America was not involved in the catastrophic accident during final launch preparations for the Safir SLV Launch at Semnan Launch Site One in Iran. I wish Iran best wishes and good luck in determining what happened at Site One.pic.twitter.com/z0iDj2L0Y3'\n",
      " 'Congratulations to Kelly Knight Craft of #Kentucky on her confirmation as United Nations Ambassador. After having served so admirably as Ambassador to Canada, & having done an outstanding job no matter how difficult the task, Kelly will be fantastic at the United Nations. Winner!'\n",
      " '.....on the President of the United States.” @charliekirk11 @trish_regan'\n",
      " 'H1-B holders in the United States can rest assured that changes are soon coming which will bring both simplicity and certainty to your stay, including a potential path to citizenship. We want to encourage talented and highly skilled people to pursue career options in the U.S.'\n",
      " 'Sleepy Joe Biden is having his first rally in the Great State of Pennsylvania. He obviously doesn’t know that Pennsylvania is having one of the best economic years in its history, with lowest unemployment EVER, a now thriving Steel Industry (that was dead) & great future!........'\n",
      " 'Do you believe this? A total Scam!https://twitter.com/seanhannity/status/1182643280636514304 …'\n",
      " 'GREAT progress on the Border Wall!pic.twitter.com/TvOYxgsBSv'\n",
      " '....in the basement of the United States Capitol! They cannot win at the ballot box. Their sham for the past 3 years continues. The good news is that the American People get it, which will be proven once again on November 3, 2020!'\n",
      " 'Incredible progress being made at the Southern Border!pic.twitter.com/xcqxKEkfGD']\n"
     ]
    }
   ],
   "source": [
    "print(Trump_predictions.sort_values(by=['toxic'], ascending=False)['text'].head(10).values)"
   ]
  },
  {
   "cell_type": "code",
   "execution_count": 25,
   "metadata": {
    "colab": {
     "base_uri": "https://localhost:8080/",
     "height": 213
    },
    "colab_type": "code",
    "id": "LgZs0jmRjXPZ",
    "outputId": "10f5925f-7162-443a-ae53-256639b9adc8"
   },
   "outputs": [
    {
     "name": "stdout",
     "output_type": "stream",
     "text": [
      "['It is not Congress that regulates the pharmaceutical industry. It is the pharmaceutical industry that regulates Congress.'\n",
      " 'We must end the absurdity of the United States having more people in jail than any other country on Earth. We must invest in jobs and education for our young people, not more jails and incarceration.'\n",
      " 'The insurance industry, the drug industry, the NRA, the fossil fuel industry and the military industrial complex will spend outrageous sums of money to see us fail. I think that says a lot about our campaign. We stand with the people, not those who want to profit off suffering.'\n",
      " \"In the United States it costs, on average, $12,000 to have a baby. In Finland it costs $60. We've got to end the disgrace of our profit-driven health care system and pass Medicare for all.\"\n",
      " 'The fossil fuel industry created the climate crisis. They are going to pay to stop it. #ClimateTownHall'\n",
      " 'It is a disgrace that the United States locks up more people than any country on Earth. In my first term as president, we will aim to cut incarceration in half.'\n",
      " 'In the United States of America, one job should be enough to earn a decent living.'\n",
      " 'The fact that the United States continues to arrest hundreds of thousands of black and brown Americans every year for possession of marijuana, while wealthy investors on Wall Street make huge profits off of it, is completely outrageous.'\n",
      " \"I get a little tired of Democrats afraid of big ideas. If Republicans could give trillions in tax breaks to billionaires, please don't tell me we cannot take on the fossil fuel industry. #DemDebate\"\n",
      " 'Steve King is a racist, a misogynist and a disgrace to the country. He should not be a member of the United States Congress.https://twitter.com/AnnahBackstrom/status/1161683370864254981 …']\n"
     ]
    }
   ],
   "source": [
    "print(Sanders_predictions.sort_values(by=['toxic'], ascending=False)['text'].head(10).values)"
   ]
  },
  {
   "cell_type": "code",
   "execution_count": 26,
   "metadata": {
    "colab": {
     "base_uri": "https://localhost:8080/",
     "height": 213
    },
    "colab_type": "code",
    "id": "95CfJ1GfkhyR",
    "outputId": "420232c3-6afa-41c9-dd2a-4b45946cb0ac"
   },
   "outputs": [
    {
     "name": "stdout",
     "output_type": "stream",
     "text": [
      "[\"It's a disgrace to see an Attorney General acting as if he's the personal attorney and publicist for the President of the United States.\"\n",
      " 'We must stand united with Tribal Nations and indigenous peoples to ensure that Native voices are heard and their rights are respected. With real structural change, we can write a new story.https://www.nbcnews.com/politics/meet-the-press/live-blog/meet-press-blog-latest-news-analysis-data-driving-political-discussion-n988541/ncrd1043076#liveBlogHeader …'\n",
      " 'I’m running for president of the United States—and yeah, I’ve got a lot of plans. Thank you, @EssenceFest!https://twitter.com/Essence/status/1147610388604882949 …'\n",
      " 'This is a disgrace. The American people deserve answers—and Special Counsel Robert Mueller should testify publicly before Congress. #ReleaseTheFullReportpic.twitter.com/ROG0Bt6JVq'\n",
      " \"Industrial pollution has been disproportionately concentrated in low-income communities and communities of color like in Louisiana's Cancer Alley. We need to be reducing harmful emissions—not permitting more. These communities need environmental justice.https://www.propublica.org/article/welcome-to-cancer-alley-where-toxic-air-is-about-to-get-worse …\"\n",
      " 'Bigotry and hate have no place in the United States of America. Period.https://thehill.com/homenews/campaign/434649-warren-white-supremacists-pose-a-threat-to-the-united-states-like-any-other …'\n",
      " \"This cruelty isn’t an accident – it's all part of @realDonaldTrump's plan. Puerto Rico has suffered enough. This ugliness has gone far enough. We won’t allow anyone to sabotage the island’s recovery – not even the President of the United States.\"\n",
      " \"The United States has the highest incarceration rate in the world. Our policies are tearing families apart and devastating communities—and they aren't making us safer. I've got a plan to completely reform the criminal justice system from front to back.pic.twitter.com/mt9LMpMSDJ\"\n",
      " \"Second: a Green Industrial Mobilization. I'll commit $1.5 trillion to buy clean, renewable, and emission-free energy products, supporting only American companies who manufacture here at home and treat workers with respect, to boost demand and galvanize our clean energy industry.\"\n",
      " 'It was great to be in Las Vegas again this weekend to talk about how we’re going to fight for big, structural change. See you again soon!pic.twitter.com/pVAvIbPs2j']\n"
     ]
    }
   ],
   "source": [
    "print(Warren_predictions.sort_values(by=['toxic'], ascending=False)['text'].head(10).values)"
   ]
  },
  {
   "cell_type": "code",
   "execution_count": 27,
   "metadata": {
    "colab": {
     "base_uri": "https://localhost:8080/",
     "height": 213
    },
    "colab_type": "code",
    "id": "SIjY-dHsld_Z",
    "outputId": "e0d8c597-300f-4ad9-d528-3b66eaa24d77"
   },
   "outputs": [
    {
     "name": "stdout",
     "output_type": "stream",
     "text": [
      "['The clean energy economy of the future presents an enormous opportunity. President Biden will create 10 million well-paying jobs in the United States that will grow a stronger, more inclusive middle class in communities across the country. #ClimateTownHall'\n",
      " 'We’re going to make record-breaking investments in research and development and zero-carbon technologies so that America is the engine of the world’s clean economy. The United States will be a 100% clean-energy economy with net-zero emissions by 2050. https://go.joebiden.com/Clean-Energy-Revolution-Social …pic.twitter.com/ypw4o7rozG'\n",
      " 'Folks, earlier today I announced that I’m running for President of the United States. The strength of this movement depends on you. Head over to http://www.joebiden.com/donate to make a donation today. #Joe2020'\n",
      " 'This initiative will create new, good-paying jobs all across the clean economy in the United States of America. It’s an enormous opportunity. https://go.joebiden.com/clean-energy-jobs …pic.twitter.com/jMzUjmXwoV'\n",
      " 'President Trump continuously dishonors everything it means to hold the office of President of the United States of America. We must make him a one-term president.'\n",
      " 'Making these revolutionary changes is going to take an incredible commitment at all levels, but I know we can meet this challenge. Because this is what America does best—solving big problems, with big ideas. If you agree, please sign your name here:https://go.joebiden.com/Clean-Energy-Revolution-Social …'\n",
      " 'This is simple. No candidate running for office should help foreign governments undermine our democracy. That includes the sitting President of the United States. Our elections should be decided by the American people — not Vladimir Putin.'\n",
      " 'As president, I would press for dialogue to prevent further violence and instability. Investing in Haiti’s prosperity and security is in the national security interest of the United States.'\n",
      " 'For all the hard-won progress, for as much as we can celebrate how much better things have gotten — this fight is not over. We have to come together to stand up to abuses of power, ensure that everyone is treated with dignity, and fight for full equality.pic.twitter.com/aCoWE0hggC'\n",
      " 'President Trump continues to: Deny the science in front of his own eyes Attack the progress made by the Obama-Biden Administration Spew lies like “windmills cause cancer” Defeating him is essential to making any progress on climate change. #ClimateTownHall']\n"
     ]
    }
   ],
   "source": [
    "print(Biden_predictions.sort_values(by=['toxic'], ascending=False)['text'].head(10).values)"
   ]
  },
  {
   "cell_type": "markdown",
   "metadata": {
    "colab": {},
    "colab_type": "code",
    "id": "VPPh306JpXA8"
   },
   "source": [
    "### How many times did the candidates mention others?"
   ]
  },
  {
   "cell_type": "code",
   "execution_count": 28,
   "metadata": {},
   "outputs": [],
   "source": [
    "import re\n",
    "total = []\n",
    "num = 0\n",
    "candidates = ['Trump', 'Sanders','Biden','Warren']\n",
    "for df_candidate in [df_Trump, df_Bernie, df_Joe, df_Elizabeth]:\n",
    "    cd_list = [candidates[num]]\n",
    "    for candidate in candidates:\n",
    "        count = 0\n",
    "        for i in df_candidate['text'].values:\n",
    "            if re.search(candidate, i):\n",
    "                temp = len(re.findall(candidate, i))\n",
    "                count+=temp\n",
    "        cd_list.append(count)\n",
    "    total.append(cd_list)\n",
    "    num+=1\n"
   ]
  },
  {
   "cell_type": "code",
   "execution_count": 29,
   "metadata": {},
   "outputs": [
    {
     "data": {
      "text/html": [
       "<div>\n",
       "<style scoped>\n",
       "    .dataframe tbody tr th:only-of-type {\n",
       "        vertical-align: middle;\n",
       "    }\n",
       "\n",
       "    .dataframe tbody tr th {\n",
       "        vertical-align: top;\n",
       "    }\n",
       "\n",
       "    .dataframe thead th {\n",
       "        text-align: right;\n",
       "    }\n",
       "</style>\n",
       "<table border=\"1\" class=\"dataframe\">\n",
       "  <thead>\n",
       "    <tr style=\"text-align: right;\">\n",
       "      <th></th>\n",
       "      <th></th>\n",
       "      <th>Trump</th>\n",
       "      <th>Sanders</th>\n",
       "      <th>Biden</th>\n",
       "      <th>Warren</th>\n",
       "    </tr>\n",
       "  </thead>\n",
       "  <tbody>\n",
       "    <tr>\n",
       "      <th>0</th>\n",
       "      <td>Trump</td>\n",
       "      <td>409</td>\n",
       "      <td>12</td>\n",
       "      <td>55</td>\n",
       "      <td>7</td>\n",
       "    </tr>\n",
       "    <tr>\n",
       "      <th>1</th>\n",
       "      <td>Sanders</td>\n",
       "      <td>490</td>\n",
       "      <td>66</td>\n",
       "      <td>14</td>\n",
       "      <td>1</td>\n",
       "    </tr>\n",
       "    <tr>\n",
       "      <th>2</th>\n",
       "      <td>Biden</td>\n",
       "      <td>405</td>\n",
       "      <td>6</td>\n",
       "      <td>272</td>\n",
       "      <td>2</td>\n",
       "    </tr>\n",
       "    <tr>\n",
       "      <th>3</th>\n",
       "      <td>Warren</td>\n",
       "      <td>361</td>\n",
       "      <td>4</td>\n",
       "      <td>0</td>\n",
       "      <td>334</td>\n",
       "    </tr>\n",
       "  </tbody>\n",
       "</table>\n",
       "</div>"
      ],
      "text/plain": [
       "            Trump  Sanders  Biden  Warren\n",
       "0  Trump    409    12       55     7     \n",
       "1  Sanders  490    66       14     1     \n",
       "2  Biden    405    6        272    2     \n",
       "3  Warren   361    4        0      334   "
      ]
     },
     "execution_count": 29,
     "metadata": {},
     "output_type": "execute_result"
    }
   ],
   "source": [
    "header = ['','Trump', 'Sanders','Biden','Warren'] \n",
    "pd.DataFrame(total, columns=header, index= None)"
   ]
  },
  {
   "cell_type": "code",
   "execution_count": null,
   "metadata": {},
   "outputs": [],
   "source": []
  }
 ],
 "metadata": {
  "colab": {
   "collapsed_sections": [],
   "name": "test.ipynb",
   "provenance": []
  },
  "kernelspec": {
   "display_name": "Python 3",
   "name": "python3"
  },
  "language_info": {
   "codemirror_mode": {
    "name": "ipython",
    "version": 3
   },
   "file_extension": ".py",
   "mimetype": "text/x-python",
   "name": "python",
   "nbconvert_exporter": "python",
   "pygments_lexer": "ipython3",
   "version": "3.6.6"
  }
 },
 "nbformat": 4,
 "nbformat_minor": 1
}
